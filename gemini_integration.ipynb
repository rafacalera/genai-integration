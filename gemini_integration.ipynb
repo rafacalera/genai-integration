{
 "cells": [
  {
   "cell_type": "code",
   "execution_count": 16,
   "metadata": {},
   "outputs": [],
   "source": [
    "import google.generativeai as genai\n",
    "from dotenv import load_dotenv\n",
    "import os\n",
    "\n",
    "load_dotenv()\n",
    "\n",
    "genai.configure(api_key=os.getenv(\"GEMINI_KEY\"))"
   ]
  },
  {
   "cell_type": "code",
   "execution_count": 24,
   "metadata": {},
   "outputs": [
    {
     "name": "stdout",
     "output_type": "stream",
     "text": [
      "A sua última pergunta foi: \"Qual foi a minha última pergunta?\". 😊 \n",
      "\n"
     ]
    }
   ],
   "source": [
    "model_config = genai.GenerationConfig(\n",
    "    temperature=0.7,\n",
    "    top_k=1000,\n",
    "    max_output_tokens=1000,\n",
    "    top_p=1\n",
    ")\n",
    "\n",
    "model = genai.GenerativeModel(\n",
    "    model_name=\"gemini-1.5-flash\", \n",
    "    system_instruction=\"Seu nome é Flash, você é um assistente de IA treinado para responder perguntas e gerar texto. Como posso ajudar você hoje?\", \n",
    "    generation_config=model_config\n",
    ")\n",
    "\n",
    "response = model.generate_content([\"Quem é o presidente do Brasil?\", \"O presidente do Brasil atualmente é **Luiz Inácio Lula da Silva**, também conhecido como Lula. Ele assumiu o cargo em 1º de janeiro de 2023.\", \"Qual foi a minha ultima pergunta?\", \"A sua última pergunta foi: Quem é o presidente do Brasil?.\", \"Qual foi minha ultima pergunta?\"])\n",
    "\n",
    "print(response.text)"
   ]
  }
 ],
 "metadata": {
  "kernelspec": {
   "display_name": "Python 3",
   "language": "python",
   "name": "python3"
  },
  "language_info": {
   "codemirror_mode": {
    "name": "ipython",
    "version": 3
   },
   "file_extension": ".py",
   "mimetype": "text/x-python",
   "name": "python",
   "nbconvert_exporter": "python",
   "pygments_lexer": "ipython3",
   "version": "3.12.4"
  }
 },
 "nbformat": 4,
 "nbformat_minor": 2
}
